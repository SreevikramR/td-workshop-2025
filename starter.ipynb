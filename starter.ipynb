{
 "cells": [
  {
   "cell_type": "markdown",
   "metadata": {},
   "source": [
    "# Let's Code!\n",
    "\n",
    "Follow along, run the code cells (Shift + Enter), and let's get ready for the hackathon!"
   ]
  },
  {
   "cell_type": "markdown",
   "metadata": {},
   "source": [
    "## 1. Setup: Importing Our Tools\n",
    "\n",
    "First, we need to import the libraries we'll use. We give them standard nicknames (`pd`, `plt`) to make our code shorter.\n",
    "\n",
    "- `pandas`: For creating and manipulating our main data structure, the DataFrame.\n",
    "- `matplotlib.pyplot`: For making basic plots."
   ]
  },
  {
   "cell_type": "code",
   "execution_count": 22,
   "metadata": {},
   "outputs": [
    {
     "name": "stdout",
     "output_type": "stream",
     "text": [
      "Libraries imported! Ready to code!\n"
     ]
    }
   ],
   "source": [
    "# !pip install pandas matplotlib\n",
    "# import libraries\n",
    "\n",
    "# Let's make sure plots show up nicely in the notebook\n",
    "%matplotlib inline \n",
    "\n",
    "print(\"Libraries imported! Ready to code!\")"
   ]
  },
  {
   "cell_type": "markdown",
   "metadata": {},
   "source": [
    "## 2. Loading the Data\n",
    "\n",
    "Now, let's load the Aggie Baseball data from the CSV file into a Pandas DataFrame. A DataFrame is like a programmable spreadsheet.\n",
    "\n",
    "**Important:** Make sure the `aggie_baseball_batting.csv` file is in the same directory as this notebook, or change the `DATA_PATH` variable below to the correct file path on your computer."
   ]
  },
  {
   "cell_type": "code",
   "execution_count": 4,
   "metadata": {},
   "outputs": [],
   "source": [
    "# Adjust this path if your file is somewhere else!\n",
    "DATA_PATH = 'file.csv' \n",
    "# ========================================\n",
    "\n",
    "# Read the CSV files into a pandas dataframe\n"
   ]
  },
  {
   "cell_type": "markdown",
   "metadata": {},
   "source": [
    "## 3. Inspecting Our DataFrame: First Look\n",
    "\n",
    "We loaded *something*, but what does it look like? Let's use some essential Pandas commands to inspect our DataFrame.\n",
    "\n",
    "- `df.head()`: Shows the first 5 rows.\n",
    "- `df.tail()`: Shows the last 5 rows.\n",
    "- `df.shape`: Shows the number of (rows, columns).\n",
    "- `df.info()`: Shows column names, non-null counts, and data types (Dtypes) for each column (Series)."
   ]
  },
  {
   "cell_type": "code",
   "execution_count": 5,
   "metadata": {},
   "outputs": [
    {
     "name": "stdout",
     "output_type": "stream",
     "text": [
      "--- First 5 Rows --- \n"
     ]
    }
   ],
   "source": [
    "# Display the first few rows\n",
    "print(\"--- First 5 Rows --- \")\n"
   ]
  },
  {
   "cell_type": "code",
   "execution_count": 6,
   "metadata": {},
   "outputs": [
    {
     "name": "stdout",
     "output_type": "stream",
     "text": [
      "--- Last 5 Rows --- \n"
     ]
    }
   ],
   "source": [
    "# Display the last few rows\n",
    "print(\"--- Last 5 Rows --- \")\n"
   ]
  },
  {
   "cell_type": "code",
   "execution_count": 8,
   "metadata": {},
   "outputs": [
    {
     "name": "stdout",
     "output_type": "stream",
     "text": [
      "--- DataFrame Shape --- \n"
     ]
    }
   ],
   "source": [
    "# Get the dimensions (rows, columns)\n",
    "print(\"--- DataFrame Shape --- \")\n"
   ]
  },
  {
   "cell_type": "code",
   "execution_count": 9,
   "metadata": {},
   "outputs": [
    {
     "name": "stdout",
     "output_type": "stream",
     "text": [
      "--- DataFrame Info --- \n"
     ]
    }
   ],
   "source": [
    "# Get column info (names, non-null counts, Dtypes)\n",
    "print(\"--- DataFrame Info --- \")\n"
   ]
  },
  {
   "cell_type": "markdown",
   "metadata": {},
   "source": [
    "**Observation:** Look at the `Dtype` column from `df.info()`. Notice that `Date`, `W/L`, and `Score` are listed as `object`. This usually means Pandas sees them as text strings. We need to fix this to perform calculations and date-based analysis!"
   ]
  },
  {
   "cell_type": "markdown",
   "metadata": {},
   "source": [
    "## 4. Cleaning Time: Fixing Data Types\n",
    "\n",
    "Let's convert those `object` columns into more useful types."
   ]
  },
  {
   "cell_type": "markdown",
   "metadata": {},
   "source": [
    "### 4.1 Fixing the Date Column\n",
    "\n",
    "We'll use `pd.to_datetime()` to convert the 'Date' column strings into actual datetime objects. Then, we'll extract the year into a new column called 'Year' using the `.dt` accessor, which is super handy for working with dates."
   ]
  },
  {
   "cell_type": "code",
   "execution_count": 12,
   "metadata": {},
   "outputs": [
    {
     "name": "stdout",
     "output_type": "stream",
     "text": [
      "Fixing Date column...\n",
      "Date fixed, 'Year' column added.\n"
     ]
    }
   ],
   "source": [
    "print(\"Fixing Date column...\")\n",
    "# Change the Date string to a DateTime Object\n",
    "\n",
    "# Create a 'Year' column\n",
    "\n",
    "print(\"Date fixed, 'Year' column added.\")\n",
    "# Verify the change\n",
    "# print(\"Data type of 'Date' column:\", df['Date'].dtype)\n",
    "# print(\"Data type of 'Year' column:\", df['Year'].dtype)"
   ]
  },
  {
   "cell_type": "markdown",
   "metadata": {},
   "source": [
    "### 4.2 Parsing the Score Column\n",
    "\n",
    "The 'Score' column (e.g., '5-6') needs to be split into two numerical columns: 'Runs_For' (A&M's score) and 'Runs_Against' (Opponent's score).\n",
    "\n",
    "1.  Use the `.str.split()` method to split the string at the hyphen ('-'). `expand=True` makes new columns.\n",
    "2.  Convert these new columns to numbers using `pd.to_numeric()`. We use `errors='coerce'` which will turn any problematic values (like missing scores) into `NaN` (Not a Number) instead of crashing."
   ]
  },
  {
   "cell_type": "code",
   "execution_count": 13,
   "metadata": {},
   "outputs": [
    {
     "name": "stdout",
     "output_type": "stream",
     "text": [
      "Parsing Score column...\n"
     ]
    }
   ],
   "source": [
    "print(\"Parsing Score column...\")\n",
    "# Split the 'Score' string\n",
    "\n",
    "# Create new columns and convert to numeric\n",
    "\n",
    "# print(\"'Runs_For' and 'Runs_Against' columns added.\")\n",
    "# print(\"Data type of 'Runs_For':\", df['Runs_For'].dtype)\n",
    "# print(\"Data type of 'Runs_Against':\", df['Runs_Against'].dtype)"
   ]
  },
  {
   "cell_type": "markdown",
   "metadata": {},
   "source": [
    "### 4.3 Parsing the W/L Column\n",
    "\n",
    "The 'W/L' column is text ('W' or 'L'). For easier analysis (like grouping), let's create a boolean (True/False) column called 'Win'. We can use `.str.startswith('W')` which returns `True` if the string begins with 'W'."
   ]
  },
  {
   "cell_type": "code",
   "execution_count": 15,
   "metadata": {},
   "outputs": [
    {
     "name": "stdout",
     "output_type": "stream",
     "text": [
      "Parsing W/L column...\n",
      "'Win' (boolean) column added.\n"
     ]
    }
   ],
   "source": [
    "print(\"Parsing W/L column...\")\n",
    "# Parse the Win-Loss Column and convert it to a boolean\n",
    "\n",
    "print(\"'Win' (boolean) column added.\")\n",
    "# print(\"Data type of 'Win':\", df['Win'].dtype)"
   ]
  },
  {
   "cell_type": "markdown",
   "metadata": {},
   "source": [
    "### 4.4 Verify All Cleaning\n",
    "\n",
    "Let's run `df.info()` again and look at the newly created columns to make sure everything looks good."
   ]
  },
  {
   "cell_type": "code",
   "execution_count": 16,
   "metadata": {},
   "outputs": [
    {
     "name": "stdout",
     "output_type": "stream",
     "text": [
      "--- Verifying Cleaned DataFrame Info --- \n"
     ]
    }
   ],
   "source": [
    "print(\"--- Verifying Cleaned DataFrame Info --- \")\n"
   ]
  },
  {
   "cell_type": "code",
   "execution_count": 17,
   "metadata": {},
   "outputs": [
    {
     "name": "stdout",
     "output_type": "stream",
     "text": [
      "\n",
      "--- Checking New/Modified Columns --- \n"
     ]
    }
   ],
   "source": [
    "print(\"\\n--- Checking New/Modified Columns --- \")\n",
    "# display(df[['Date', 'Year', 'Score', 'Runs_For', 'Runs_Against', 'W/L', 'Win']].head())"
   ]
  },
  {
   "cell_type": "markdown",
   "metadata": {},
   "source": [
    "**Success!** Our key columns now have useful data types (`datetime64`, `int64`, `float64`, `bool`). Now we can analyze!"
   ]
  },
  {
   "cell_type": "markdown",
   "metadata": {},
   "source": [
    "## 5. Analysis Time! Answering Questions\n",
    "\n",
    "With our cleaned DataFrame, we can start asking questions using filtering, grouping, sorting, and aggregation methods."
   ]
  },
  {
   "cell_type": "markdown",
   "metadata": {},
   "source": [
    "### Q1: How have Home Runs per year changed?\n",
    "\n",
    "We can `groupby()` the 'Year' column and then calculate the `sum()` of the 'HR' column for each year."
   ]
  },
  {
   "cell_type": "code",
   "execution_count": 18,
   "metadata": {},
   "outputs": [
    {
     "name": "stdout",
     "output_type": "stream",
     "text": [
      "--- Q1: Home Runs per Year ---\n",
      "Total Home Runs per Year (showing last 10):\n"
     ]
    }
   ],
   "source": [
    "print(\"--- Q1: Home Runs per Year ---\")\n",
    "# Calculate the Home Runs by year\n",
    "\n",
    "print(\"Total Home Runs per Year (showing last 10):\")\n",
    "# Show the last 10 years"
   ]
  },
  {
   "cell_type": "markdown",
   "metadata": {},
   "source": [
    "### Q2: What are the average Runs For/Against in Wins vs. Losses?\n",
    "\n",
    "Let's `groupby()` our boolean 'Win' column and calculate the `mean()` for both 'Runs_For' and 'Runs_Against'."
   ]
  },
  {
   "cell_type": "code",
   "execution_count": 19,
   "metadata": {},
   "outputs": [
    {
     "name": "stdout",
     "output_type": "stream",
     "text": [
      "--- Q2: Average Runs in Wins vs Losses ---\n"
     ]
    }
   ],
   "source": [
    "print(\"--- Q2: Average Runs in Wins vs Losses ---\")\n",
    "# Group by 'Win', then select the columns to average, then calculate mean\n",
    "\n",
    "# The index will be False (Losses) and True (Wins)\n"
   ]
  },
  {
   "cell_type": "markdown",
   "metadata": {},
   "source": [
    "### Q3: How do we hit against a specific rival (e.g., Texas)?\n",
    "\n",
    "1.  **Filter:** Create a smaller DataFrame containing only games where the 'Opponent' column matches our rival.\n",
    "2.  **Calculate:** Perform calculations (like batting average: Total Hits / Total At Bats) on this *filtered* DataFrame.\n",
    "\n",
    "**Important:** The opponent name (`'Texas'` below) must *exactly* match how it appears in the 'Opponent' column of your CSV file!"
   ]
  },
  {
   "cell_type": "code",
   "execution_count": null,
   "metadata": {},
   "outputs": [],
   "source": [
    "print(\"--- Q3: Performance vs. Specific Rival ---\")\n",
    "# Make sure this name matches your data EXACTLY (case-sensitive!)\n",
    "RIVAL_NAME = 'Texas' \n",
    "# ==================================\n",
    "\n",
    "# Filter the DataFrame to get only games vs Rival\n",
    "\n",
    "\n",
    "print(f\"Found {len(rival_games)} games against {RIVAL_NAME}.\")\n",
    "\n",
    "# Calculate stats for these games\n",
    "# hits_vs_rival =\n",
    "# at_bats_vs_rival = \n",
    "# avg_vs_rival = \n",
    "\n",
    "# avg_runs_vs_rival = \n",
    "# win_rate_vs_rival = \n",
    "\n",
    "print(f\"\\nStats vs {RIVAL_NAME}:\")\n",
    "# print(f\"  Batting Avg: {avg_vs_rival:.3f}\")\n",
    "# print(f\"  Avg Runs Scored: {avg_runs_vs_rival:.2f}\")\n",
    "# print(f\"  Win Rate: {win_rate_vs_rival:.1%}\")\n",
    "\n",
    "# Compare to overall\n",
    "# overall_avg = \n",
    "# overall_win_rate = \n",
    "print(f\"\\nCompare to Overall:\")\n",
    "# print(f\"  Overall Batting Avg: {overall_avg:.3f}\")\n",
    "# print(f\"  Overall Win Rate: {overall_win_rate:.1%}\")"
   ]
  },
  {
   "cell_type": "markdown",
   "metadata": {},
   "source": [
    "### Q4: What were the highest scoring games for A&M?\n",
    "\n",
    "We can use `.sort_values()` on the 'Runs_For' column. `ascending=False` puts the highest values first. Then use `.head()` to see the top few."
   ]
  },
  {
   "cell_type": "code",
   "execution_count": null,
   "metadata": {},
   "outputs": [],
   "source": [
    "print(\"--- Q4: Highest Scoring Games (for A&M) ---\")\n",
    "high_scoring_games = df.sort_values('Runs_For', ascending=False)\n",
    "\n",
    "# Display the top 5 highest scoring games, showing relevant columns\n",
    "display(high_scoring_games[['Date', 'Opponent', 'Score', 'W/L', 'Runs_For']].head(5))"
   ]
  },
  {
   "cell_type": "markdown",
   "metadata": {},
   "source": [
    "## 6. Quick Visualization\n",
    "\n",
    "Pandas DataFrames and Series can plot themselves using Matplotlib under the hood. Let's make a quick bar chart of the Home Runs per Year data we calculated earlier."
   ]
  },
  {
   "cell_type": "code",
   "execution_count": 21,
   "metadata": {
    "scrolled": true
   },
   "outputs": [
    {
     "name": "stdout",
     "output_type": "stream",
     "text": [
      "--- Visualizing HRs per Year ---\n"
     ]
    }
   ],
   "source": [
    "print(\"--- Visualizing HRs per Year ---\")\n",
    "# hrs_per_year.plot(kind='bar', figsize=(12, 6))\n",
    "\n",
    "# Add plot details\n"
   ]
  },
  {
   "cell_type": "markdown",
   "metadata": {
    "jp-MarkdownHeadingCollapsed": true
   },
   "source": [
    "## Workshop Complete!\n",
    "\n",
    "Nice work! We've successfully loaded, inspected, cleaned, analyzed, and even visualized real Aggie Baseball data using Pandas.\n",
    "\n",
    "Remember the core workflow:\n",
    "1.  **Load:** `pd.read_csv()`\n",
    "2.  **Inspect:** `head()`, `tail()`, `shape`, `info()`, `describe()`\n",
    "3.  **Clean:** Fix data types (`to_datetime`, `to_numeric`), handle missing values (`dropna`, `fillna`), create new columns.\n",
    "4.  **Analyze:** Filter rows `df[...]`, `groupby()`, aggregate (`sum`, `mean`, `count`), `sort_values()`.\n",
    "5.  **(Bonus) Visualize:** `.plot()`\n",
    "\n",
    "You now have the foundational skills to tackle data challenges in the hackathon. Good luck, have fun, and Gig 'Em!"
   ]
  }
 ],
 "metadata": {
  "kernelspec": {
   "display_name": "Python 3 (ipykernel)",
   "language": "python",
   "name": "python3"
  },
  "language_info": {
   "codemirror_mode": {
    "name": "ipython",
    "version": 3
   },
   "file_extension": ".py",
   "mimetype": "text/x-python",
   "name": "python",
   "nbconvert_exporter": "python",
   "pygments_lexer": "ipython3",
   "version": "3.12.5"
  }
 },
 "nbformat": 4,
 "nbformat_minor": 4
}
